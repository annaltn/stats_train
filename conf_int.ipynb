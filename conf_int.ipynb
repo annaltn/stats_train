{
 "cells": [
  {
   "cell_type": "markdown",
   "metadata": {},
   "source": [
    "# Confidence interval"
   ]
  },
  {
   "cell_type": "code",
   "execution_count": 1,
   "metadata": {
    "ExecuteTime": {
     "end_time": "2020-07-10T22:17:34.706552Z",
     "start_time": "2020-07-10T22:17:33.695759Z"
    }
   },
   "outputs": [
    {
     "name": "stdout",
     "output_type": "stream",
     "text": [
      "Created `%t` as an alias for `%time`.\n",
      "Created `%%t` as an alias for `%%time`.\n"
     ]
    }
   ],
   "source": [
    "import os\n",
    "# Scientific libraries\n",
    "import numpy as np\n",
    "import scipy\n",
    "import pandas as pd\n",
    "\n",
    "# Graphic libraries\n",
    "import matplotlib.pyplot as plt\n",
    "%matplotlib inline\n",
    "import seaborn as sns\n",
    "sns.set(style='ticks', context='talk')\n",
    "\n",
    "# Creating alias for magic commands\n",
    "%alias_magic t time\n",
    "\n",
    "#tools for modeling\n",
    "from sklearn.linear_model import LinearRegression\n",
    "import sklearn.metrics as metrics\n",
    "from sklearn.model_selection import train_test_split, StratifiedKFold, RandomizedSearchCV"
   ]
  },
  {
   "cell_type": "code",
   "execution_count": 2,
   "metadata": {
    "ExecuteTime": {
     "end_time": "2020-07-10T22:17:36.207438Z",
     "start_time": "2020-07-10T22:17:34.708543Z"
    }
   },
   "outputs": [
    {
     "name": "stdout",
     "output_type": "stream",
     "text": [
      "Requirement already satisfied: statsmodels in c:\\users\\victor\\anaconda3\\envs\\updated\\lib\\site-packages (0.11.1)\n",
      "Requirement already satisfied: numpy>=1.14 in c:\\users\\victor\\anaconda3\\envs\\updated\\lib\\site-packages (from statsmodels) (1.18.1)\n",
      "Requirement already satisfied: patsy>=0.5 in c:\\users\\victor\\anaconda3\\envs\\updated\\lib\\site-packages (from statsmodels) (0.5.1)\n",
      "Requirement already satisfied: pandas>=0.21 in c:\\users\\victor\\anaconda3\\envs\\updated\\lib\\site-packages (from statsmodels) (1.0.3)\n",
      "Requirement already satisfied: scipy>=1.0 in c:\\users\\victor\\anaconda3\\envs\\updated\\lib\\site-packages (from statsmodels) (1.4.1)\n",
      "Requirement already satisfied: six in c:\\users\\victor\\anaconda3\\envs\\updated\\lib\\site-packages (from patsy>=0.5->statsmodels) (1.15.0)\n",
      "Requirement already satisfied: python-dateutil>=2.6.1 in c:\\users\\victor\\anaconda3\\envs\\updated\\lib\\site-packages (from pandas>=0.21->statsmodels) (2.8.1)\n",
      "Requirement already satisfied: pytz>=2017.2 in c:\\users\\victor\\anaconda3\\envs\\updated\\lib\\site-packages (from pandas>=0.21->statsmodels) (2020.1)\n"
     ]
    }
   ],
   "source": [
    "!pip install statsmodels"
   ]
  },
  {
   "cell_type": "code",
   "execution_count": 3,
   "metadata": {
    "ExecuteTime": {
     "end_time": "2020-07-10T22:17:36.351654Z",
     "start_time": "2020-07-10T22:17:36.211425Z"
    }
   },
   "outputs": [],
   "source": [
    "import statsmodels.formula.api as smf"
   ]
  },
  {
   "cell_type": "code",
   "execution_count": 4,
   "metadata": {
    "ExecuteTime": {
     "end_time": "2020-07-10T22:17:36.370790Z",
     "start_time": "2020-07-10T22:17:36.354832Z"
    }
   },
   "outputs": [],
   "source": [
    "# generate data following a line with some noise\n",
    "df = pd.DataFrame({'x': np.linspace(0, 1, 10)})\n",
    "a, b = 10, 1\n",
    "df['y'] = a * df['x'] + b + np.random.rand(*df['x'].shape)"
   ]
  },
  {
   "cell_type": "code",
   "execution_count": 5,
   "metadata": {
    "ExecuteTime": {
     "end_time": "2020-07-10T22:17:36.404698Z",
     "start_time": "2020-07-10T22:17:36.373782Z"
    }
   },
   "outputs": [],
   "source": [
    "results = smf.ols('y ~ x', data=df).fit()"
   ]
  },
  {
   "cell_type": "code",
   "execution_count": 6,
   "metadata": {
    "ExecuteTime": {
     "end_time": "2020-07-10T22:17:36.479498Z",
     "start_time": "2020-07-10T22:17:36.407691Z"
    },
    "scrolled": true
   },
   "outputs": [
    {
     "name": "stdout",
     "output_type": "stream",
     "text": [
      "                 Results: Ordinary least squares\n",
      "=================================================================\n",
      "Model:              OLS              Adj. R-squared:     0.991   \n",
      "Dependent Variable: y                AIC:                7.7968  \n",
      "Date:               2020-07-10 15:17 BIC:                8.4020  \n",
      "No. Observations:   10               Log-Likelihood:     -1.8984 \n",
      "Df Model:           1                F-statistic:        948.7   \n",
      "Df Residuals:       8                Prob (F-statistic): 1.34e-09\n",
      "R-squared:          0.992            Scale:              0.10699 \n",
      "-------------------------------------------------------------------\n",
      "            Coef.    Std.Err.      t      P>|t|    [0.025    0.975]\n",
      "-------------------------------------------------------------------\n",
      "Intercept   1.5766     0.1922    8.2007   0.0000   1.1332    2.0199\n",
      "x           9.9826     0.3241   30.8010   0.0000   9.2352   10.7300\n",
      "-----------------------------------------------------------------\n",
      "Omnibus:              3.317        Durbin-Watson:           2.708\n",
      "Prob(Omnibus):        0.190        Jarque-Bera (JB):        1.094\n",
      "Skew:                 0.263        Prob(JB):                0.579\n",
      "Kurtosis:             1.468        Condition No.:           4    \n",
      "=================================================================\n",
      "\n"
     ]
    },
    {
     "name": "stderr",
     "output_type": "stream",
     "text": [
      "C:\\Users\\Victor\\Anaconda3\\envs\\updated\\lib\\site-packages\\scipy\\stats\\stats.py:1535: UserWarning: kurtosistest only valid for n>=20 ... continuing anyway, n=10\n",
      "  \"anyway, n=%i\" % int(n))\n"
     ]
    }
   ],
   "source": [
    "print(results.summary2())"
   ]
  },
  {
   "cell_type": "code",
   "execution_count": 7,
   "metadata": {
    "ExecuteTime": {
     "end_time": "2020-07-10T22:17:36.486480Z",
     "start_time": "2020-07-10T22:17:36.482490Z"
    }
   },
   "outputs": [],
   "source": [
    "from scipy import stats"
   ]
  },
  {
   "cell_type": "code",
   "execution_count": 8,
   "metadata": {
    "ExecuteTime": {
     "end_time": "2020-07-10T22:17:36.567263Z",
     "start_time": "2020-07-10T22:17:36.490469Z"
    }
   },
   "outputs": [],
   "source": [
    "?stats.sem"
   ]
  },
  {
   "cell_type": "code",
   "execution_count": 9,
   "metadata": {
    "ExecuteTime": {
     "end_time": "2020-07-10T22:17:36.580229Z",
     "start_time": "2020-07-10T22:17:36.569258Z"
    }
   },
   "outputs": [
    {
     "data": {
      "text/plain": [
       "(6.630805969849321, 11.369194030150679)"
      ]
     },
     "execution_count": 9,
     "metadata": {},
     "output_type": "execute_result"
    }
   ],
   "source": [
    "# ex 7.3e in \"prob & stats for engineers & scientists\"\n",
    "# 95% CI\n",
    "sample = [5, 8.5, 12, 15, 7, 9, 7.5, 6.5, 10.5]\n",
    "\n",
    "df = len(sample) - 1\n",
    "m = np.mean(sample)\n",
    "se = stats.sem(sample)\n",
    "stats.t.interval(0.95, df, m, se)"
   ]
  },
  {
   "cell_type": "markdown",
   "metadata": {},
   "source": [
    "Now let us see what happen if we increase sample size."
   ]
  },
  {
   "cell_type": "code",
   "execution_count": 10,
   "metadata": {
    "ExecuteTime": {
     "end_time": "2020-07-10T22:17:36.590202Z",
     "start_time": "2020-07-10T22:17:36.583221Z"
    }
   },
   "outputs": [],
   "source": [
    "def compute_CI(sample):\n",
    "    df = len(sample) - 1\n",
    "    m = np.mean(sample)\n",
    "    se = stats.sem(sample)\n",
    "    return stats.t.interval(0.95, df, m, se)"
   ]
  },
  {
   "cell_type": "code",
   "execution_count": 11,
   "metadata": {
    "ExecuteTime": {
     "end_time": "2020-07-10T22:17:36.616133Z",
     "start_time": "2020-07-10T22:17:36.593195Z"
    }
   },
   "outputs": [
    {
     "name": "stdout",
     "output_type": "stream",
     "text": [
      "(6.630805969849321, 11.369194030150679)\n",
      "(7.513018465798657, 10.486981534201343)\n",
      "(7.828553205228008, 10.171446794771992)\n",
      "(8.002826688375313, 9.997173311624687)\n",
      "(8.117096031193578, 9.882903968806422)\n",
      "(8.19938533664971, 9.80061466335029)\n",
      "(8.26227193997882, 9.73772806002118)\n",
      "(8.312347246626748, 9.687652753373252)\n",
      "(8.353442036736979, 9.646557963263021)\n",
      "(8.387954443106528, 9.612045556893472)\n"
     ]
    }
   ],
   "source": [
    "sample0 = [5, 8.5, 12, 15, 7, 9, 7.5, 6.5, 10.5]\n",
    "for i in range(1, 11):\n",
    "    sample = sample0 * i\n",
    "    print(compute_CI(sample))"
   ]
  },
  {
   "cell_type": "markdown",
   "metadata": {},
   "source": [
    "We can see that CIs get smaller and smaller when the sample size increases, which means larger sample sizes give better estimation of the true mean of population."
   ]
  },
  {
   "cell_type": "markdown",
   "metadata": {},
   "source": [
    "## CI for difference of means of 2 populations"
   ]
  },
  {
   "cell_type": "code",
   "execution_count": 12,
   "metadata": {
    "ExecuteTime": {
     "end_time": "2020-07-10T22:17:36.628275Z",
     "start_time": "2020-07-10T22:17:36.619125Z"
    },
    "code_folding": [
     0
    ]
   },
   "outputs": [
    {
     "name": "stdout",
     "output_type": "stream",
     "text": [
      "[36.0, 54.0, 44.0, 52.0, 41.0, 37.0, 53.0, 51.0, 38.0, 44.0, 36.0, 35.0, 34, 44]\n",
      "[52.0, 60.0, 64.0, 44.0, 38.0, 48.0, 68.0, 46.0, 66.0, 70.0, 52.0, 62.0]\n"
     ]
    }
   ],
   "source": [
    "# parse data in example\n",
    "rows = [\n",
    "    '36 54 52 60',\n",
    "    '44 52 64 44',\n",
    "    '41 37 38 48',\n",
    "    '53 51 68 46',\n",
    "    '38 44 66 70',\n",
    "    '36 35 52 62'\n",
    "]\n",
    "aa, bb = [], []\n",
    "for r in rows:\n",
    "    values = r.split()\n",
    "    aa += [float(s) for s in values[:2]]\n",
    "    bb += [float(s) for s in values[2:]]\n",
    "\n",
    "aa += [34, 44]\n",
    "print(aa)\n",
    "print(bb)"
   ]
  },
  {
   "cell_type": "code",
   "execution_count": 13,
   "metadata": {
    "ExecuteTime": {
     "end_time": "2020-07-10T22:17:36.639246Z",
     "start_time": "2020-07-10T22:17:36.631265Z"
    }
   },
   "outputs": [],
   "source": [
    "?stats.norm"
   ]
  },
  {
   "cell_type": "code",
   "execution_count": 14,
   "metadata": {
    "ExecuteTime": {
     "end_time": "2020-07-10T22:17:36.653208Z",
     "start_time": "2020-07-10T22:17:36.641240Z"
    }
   },
   "outputs": [
    {
     "data": {
      "text/plain": [
       "(-19.604123716241833, -6.491114378996268)"
      ]
     },
     "execution_count": 14,
     "metadata": {},
     "output_type": "execute_result"
    }
   ],
   "source": [
    "ma, mb = np.mean(aa), np.mean(bb)\n",
    "var_a = 40; var_b = 100\n",
    "se = np.sqrt(var_a/len(aa) + var_b/len(bb))\n",
    "rv = stats.norm(loc=ma - mb, scale=se)\n",
    "rv.interval(0.95)"
   ]
  },
  {
   "cell_type": "markdown",
   "metadata": {},
   "source": [
    "So we can say with a prob 95% that the diff between two means will fall in the interval from $-19.6$ to $-6.5$."
   ]
  },
  {
   "cell_type": "markdown",
   "metadata": {},
   "source": [
    "If the variances of the populations are __unknown but equal__, then we can use std errors of the samples as estimate for variances."
   ]
  },
  {
   "cell_type": "code",
   "execution_count": 15,
   "metadata": {
    "ExecuteTime": {
     "end_time": "2020-07-10T22:17:36.667170Z",
     "start_time": "2020-07-10T22:17:36.656199Z"
    }
   },
   "outputs": [
    {
     "data": {
      "text/plain": [
       "(-15.042009165534358, -11.053228929703744)"
      ]
     },
     "execution_count": 15,
     "metadata": {},
     "output_type": "execute_result"
    }
   ],
   "source": [
    "a_se, b_se = stats.sem(aa), stats.sem(bb)\n",
    "se2 = np.sqrt(a_se**2/len(aa) + b_se**2/len(bb))\n",
    "rv2 = stats.norm(loc=ma - mb, scale=se2)\n",
    "rv2.interval(0.95)"
   ]
  },
  {
   "cell_type": "markdown",
   "metadata": {},
   "source": [
    "## CI for proportions (mean of Bernoulli distribution)\n",
    "\n",
    "Ex 7.5a:\n",
    "\n",
    "In a sample of 100 transistors, 80 of them meet standards. \n",
    "What are 95%, 98% CIs for the proportion of transistors meeting standards in all transistors.\n",
    "\n",
    "There are two ways, easier is to use module `proportion` in statsmodels. The other is to compute z-critical value by `scipy` then use formula. Below I will do both, for the sake of practice."
   ]
  },
  {
   "cell_type": "markdown",
   "metadata": {},
   "source": [
    "### Via `statsmodels.stats.proportion`"
   ]
  },
  {
   "cell_type": "code",
   "execution_count": 26,
   "metadata": {
    "ExecuteTime": {
     "end_time": "2020-07-10T23:07:43.051738Z",
     "start_time": "2020-07-10T23:07:43.046751Z"
    }
   },
   "outputs": [],
   "source": [
    "from statsmodels.stats.proportion import proportion_confint, proportion_effectsize"
   ]
  },
  {
   "cell_type": "code",
   "execution_count": 18,
   "metadata": {
    "ExecuteTime": {
     "end_time": "2020-07-10T22:17:36.704648Z",
     "start_time": "2020-07-10T22:17:36.696176Z"
    }
   },
   "outputs": [
    {
     "data": {
      "text/plain": [
       "(0.7216014406183978, 0.8783985593816023)"
      ]
     },
     "execution_count": 18,
     "metadata": {},
     "output_type": "execute_result"
    }
   ],
   "source": [
    "# 95% CI\n",
    "proportion_confint(80, 100, alpha=0.05)"
   ]
  },
  {
   "cell_type": "code",
   "execution_count": 19,
   "metadata": {
    "ExecuteTime": {
     "end_time": "2020-07-10T22:17:36.717614Z",
     "start_time": "2020-07-10T22:17:36.709636Z"
    }
   },
   "outputs": [
    {
     "data": {
      "text/plain": [
       "(0.7069460850383664, 0.8930539149616337)"
      ]
     },
     "execution_count": 19,
     "metadata": {},
     "output_type": "execute_result"
    }
   ],
   "source": [
    "# 98% CI\n",
    "proportion_confint(80, 100, alpha=0.02)"
   ]
  },
  {
   "cell_type": "markdown",
   "metadata": {},
   "source": [
    "So we can say with a confidence level 95% that the true portion of transistors meeting standards is somewhere between 72% and 87.8%."
   ]
  },
  {
   "cell_type": "markdown",
   "metadata": {},
   "source": [
    "### Via computing z-critical value\n",
    "\n",
    "z-critical value can be computed given confidence level via method `ppf` (inverse of `cdf`). Actually, given a prob value $p_{cum}$, the funciton `ppf` returns the value $x$ such that the $cdf(x) = p_{cum}$. Thus, the first thing we should do is to convert conf. level to prob value $p_{cum}$, then we can use `ppf`.\n",
    "\n",
    "__NOTE:__ as CI is a two-tailed estimation, the prob value $p$ for a given conf. lvl $c$ will be: $ p_{cum} = c + (1-c)/2 $. In other words, the $z$-value is  $z_{\\alpha / 2}$"
   ]
  },
  {
   "cell_type": "code",
   "execution_count": 23,
   "metadata": {
    "ExecuteTime": {
     "end_time": "2020-07-10T23:05:06.150092Z",
     "start_time": "2020-07-10T23:05:06.145065Z"
    }
   },
   "outputs": [],
   "source": [
    "def lookup_z_score(alpha):\n",
    "    c = 1 - alpha # conf. lvl.\n",
    "    p_cum = c + (1-c)/2\n",
    "    z_value = stats.norm.ppf(p_cum)\n",
    "    return z_value\n",
    "\n",
    "def compute_CI(c, count, n):\n",
    "    p_cum = c + (1-c)/2\n",
    "    z_value = stats.norm.ppf(p_cum)\n",
    "    phat = count/n\n",
    "    se = np.sqrt(phat*(1 - phat)/n)\n",
    "    return phat - z_value*se, phat + z_value*se"
   ]
  },
  {
   "cell_type": "code",
   "execution_count": 21,
   "metadata": {
    "ExecuteTime": {
     "end_time": "2020-07-10T22:17:36.737565Z",
     "start_time": "2020-07-10T22:17:36.731576Z"
    }
   },
   "outputs": [
    {
     "data": {
      "text/plain": [
       "(0.7216014406183979, 0.8783985593816022)"
      ]
     },
     "execution_count": 21,
     "metadata": {},
     "output_type": "execute_result"
    }
   ],
   "source": [
    "compute_CI(0.95, 80, 100)"
   ]
  },
  {
   "cell_type": "code",
   "execution_count": 22,
   "metadata": {
    "ExecuteTime": {
     "end_time": "2020-07-10T22:17:36.747533Z",
     "start_time": "2020-07-10T22:17:36.740552Z"
    }
   },
   "outputs": [
    {
     "data": {
      "text/plain": [
       "(0.7069460850383664, 0.8930539149616337)"
      ]
     },
     "execution_count": 22,
     "metadata": {},
     "output_type": "execute_result"
    }
   ],
   "source": [
    "compute_CI(0.98, 80, 100)"
   ]
  },
  {
   "cell_type": "markdown",
   "metadata": {},
   "source": [
    "## CI, error and sample size\n",
    "\n",
    "This part shows relationship between CI/error and sample size via examples. Though the examples are limited to proportion estimations, the same principle applies to other cases.\n",
    "\n",
    "The examples also illustrate the rule of thumb that error and sample size have an inverse relationship."
   ]
  },
  {
   "cell_type": "markdown",
   "metadata": {},
   "source": [
    "__EXAMPLE 7.5b:__ On October 14, 2003, the New York Times reported that a recent poll\n",
    "indicated that $52$ percent of the population was in favor of the job performance of\n",
    "President Bush, with a margin of error of $±4$ percent. What does this mean? Can we\n",
    "infer how many people were questioned?"
   ]
  },
  {
   "cell_type": "markdown",
   "metadata": {},
   "source": [
    "For proportion estimations, the error is: $ \\epsilon = z_{\\alpha/2}  \\sqrt{\\hat{p}(1- \\hat{p})/n} $. Thus, given $\\hat{p}$ and $\\alpha$ aka $1- $ conf. lvl. , we can compute sample size for each desired error $\\epsilon$ as:\n",
    "$$ n \\approx \\hat{p}(1- \\hat{p}) * z^2_{\\alpha/2} * \\epsilon^{-2} $$"
   ]
  },
  {
   "cell_type": "markdown",
   "metadata": {},
   "source": [
    "It is a common practice that media report a CI of $95\\%$ or $\\alpha=5\\%$."
   ]
  },
  {
   "cell_type": "code",
   "execution_count": 24,
   "metadata": {
    "ExecuteTime": {
     "end_time": "2020-07-10T23:06:32.616087Z",
     "start_time": "2020-07-10T23:06:32.610095Z"
    }
   },
   "outputs": [
    {
     "name": "stdout",
     "output_type": "stream",
     "text": [
      "599.2675760282835\n"
     ]
    }
   ],
   "source": [
    "alpha = 0.05\n",
    "z_score = lookup_z_score(alpha)\n",
    "phat = 0.52\n",
    "err = 0.04\n",
    "n = phat*(1 - phat)* z_score**2 * err**(-2)\n",
    "print(n)"
   ]
  },
  {
   "cell_type": "markdown",
   "metadata": {},
   "source": [
    "Similarly, we can estimate a sample size for which we can obtain a CI whose length not exceeds a given bound $b$ via formula:\n",
    "$$ n \\approx \\hat{p}(1- \\hat{p}) * (2z_{\\alpha/2})^2 * b^{-2} $$"
   ]
  },
  {
   "cell_type": "markdown",
   "metadata": {},
   "source": [
    "That is, if $k$ items were initially sampled to obtain the preliminary estimate $\\hat{p} $, then an\n",
    "additional $n − k$ (or 0 if $n \\leq k$) items should be sampled."
   ]
  },
  {
   "cell_type": "markdown",
   "metadata": {},
   "source": [
    "__EXAMPLE 7.5c:__ A certain manufacturer produces computer chips; each chip is independently\n",
    "acceptable with some unknown probability p. To obtain an approximate 99 percent\n",
    "confidence interval for p, whose length is approximately .05, an initial sample of 30\n",
    "chips has been taken. If 26 of these chips are of acceptable quality, then the preliminary\n",
    "estimate $\\hat{p}$ is 26/30. "
   ]
  },
  {
   "cell_type": "markdown",
   "metadata": {},
   "source": [
    "Using this $ \\hat{p} $, a 99 percent CI of length $b=.05$ will require a sample size:"
   ]
  },
  {
   "cell_type": "code",
   "execution_count": 30,
   "metadata": {
    "ExecuteTime": {
     "end_time": "2020-07-10T23:35:49.732391Z",
     "start_time": "2020-07-10T23:35:49.726422Z"
    }
   },
   "outputs": [
    {
     "name": "stdout",
     "output_type": "stream",
     "text": [
      "1227.0\n"
     ]
    }
   ],
   "source": [
    "phat = 26/30\n",
    "b = .05\n",
    "z_score = lookup_z_score(alpha=0.01)\n",
    "n = phat*(1 - phat) * (2*z_score)**2 * b**(-2)\n",
    "print(round(n))"
   ]
  },
  {
   "cell_type": "code",
   "execution_count": 29,
   "metadata": {
    "ExecuteTime": {
     "end_time": "2020-07-10T23:33:29.859814Z",
     "start_time": "2020-07-10T23:33:29.853486Z"
    }
   },
   "outputs": [
    {
     "data": {
      "text/plain": [
       "1197"
      ]
     },
     "execution_count": 29,
     "metadata": {},
     "output_type": "execute_result"
    }
   ],
   "source": [
    "1227 - 30"
   ]
  },
  {
   "cell_type": "markdown",
   "metadata": {},
   "source": [
    "As the sample size requires about 1227 chips, we need to sample 1197 more chips."
   ]
  },
  {
   "cell_type": "code",
   "execution_count": 31,
   "metadata": {
    "ExecuteTime": {
     "end_time": "2020-07-10T23:39:09.332177Z",
     "start_time": "2020-07-10T23:39:09.326193Z"
    }
   },
   "outputs": [
    {
     "name": "stdout",
     "output_type": "stream",
     "text": [
      "0.04999426740681545\n"
     ]
    }
   ],
   "source": [
    "# test if this sample size really helps to achieve a CI with desired length\n",
    "n_obs = round(n)\n",
    "count = phat * n_obs\n",
    "lci, uci = compute_CI(0.99, count, n_obs)\n",
    "print(uci - lci)"
   ]
  },
  {
   "cell_type": "markdown",
   "metadata": {},
   "source": [
    "__REMARK__\n",
    "\n",
    "If we know true $p$ then $ n= p(1-p) * (2z_{\\alpha/2})^2 * b^{-2} $. \n",
    "\n",
    "As $ p(1-p) \\leq 1/4, \\forall p $, an upper bound for $n$ is $ z^2_{\\alpha/2} * b^{-2} $. Thus, by choosing a sample whose size is at least as large as this upper bound, one can be assured of obtaining a confidence interval of length no greater than $b$ without need of any additional sampling."
   ]
  }
 ],
 "metadata": {
  "kernelspec": {
   "display_name": "Python 3",
   "language": "python",
   "name": "python3"
  },
  "language_info": {
   "codemirror_mode": {
    "name": "ipython",
    "version": 3
   },
   "file_extension": ".py",
   "mimetype": "text/x-python",
   "name": "python",
   "nbconvert_exporter": "python",
   "pygments_lexer": "ipython3",
   "version": "3.7.7"
  },
  "toc": {
   "base_numbering": 1,
   "nav_menu": {},
   "number_sections": true,
   "sideBar": true,
   "skip_h1_title": true,
   "title_cell": "Table of Contents",
   "title_sidebar": "Contents",
   "toc_cell": false,
   "toc_position": {},
   "toc_section_display": true,
   "toc_window_display": true
  }
 },
 "nbformat": 4,
 "nbformat_minor": 4
}
